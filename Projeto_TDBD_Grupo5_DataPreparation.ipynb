{
 "cells": [
  {
   "cell_type": "markdown",
   "id": "2c73057f",
   "metadata": {},
   "source": [
    "# Mestrado em Sistemas Integrados de Apoio à Decisão"
   ]
  },
  {
   "cell_type": "markdown",
   "id": "6e15f18a",
   "metadata": {},
   "source": [
    "### Projeto de Grupo - Desenvolvimento de Poster Científico sobre Tomada de Decisão Baseada em Dados"
   ]
  },
  {
   "cell_type": "markdown",
   "id": "e4f2a260",
   "metadata": {},
   "source": [
    "#### Grupo 5\n",
    "##### Elementos:\n",
    "##### Pedro Conceição - Nº estudante 129188\n",
    "##### Ricardo Mororó - Nº estudante 94562"
   ]
  },
  {
   "cell_type": "code",
   "execution_count": 1,
   "id": "962e3336",
   "metadata": {},
   "outputs": [],
   "source": [
    "import numpy as np\n",
    "import pandas as pd\n",
    "import seaborn as sns\n",
    "import matplotlib.pyplot as plt"
   ]
  },
  {
   "cell_type": "code",
   "execution_count": 2,
   "id": "9958a48c",
   "metadata": {},
   "outputs": [],
   "source": [
    "df = pd.read_csv(\"Road.csv\", index_col=False)"
   ]
  },
  {
   "cell_type": "markdown",
   "id": "790cce19",
   "metadata": {},
   "source": [
    "### Escolha das variáveis a serem utilizadas para análise"
   ]
  },
  {
   "cell_type": "code",
   "execution_count": 3,
   "id": "e79ce1a1",
   "metadata": {},
   "outputs": [
    {
     "name": "stdout",
     "output_type": "stream",
     "text": [
      "<class 'pandas.core.frame.DataFrame'>\n",
      "RangeIndex: 12316 entries, 0 to 12315\n",
      "Data columns (total 32 columns):\n",
      " #   Column                       Non-Null Count  Dtype \n",
      "---  ------                       --------------  ----- \n",
      " 0   Time                         12316 non-null  object\n",
      " 1   Day_of_week                  12316 non-null  object\n",
      " 2   Age_band_of_driver           12316 non-null  object\n",
      " 3   Sex_of_driver                12316 non-null  object\n",
      " 4   Educational_level            11575 non-null  object\n",
      " 5   Vehicle_driver_relation      11737 non-null  object\n",
      " 6   Driving_experience           11487 non-null  object\n",
      " 7   Type_of_vehicle              11366 non-null  object\n",
      " 8   Owner_of_vehicle             11834 non-null  object\n",
      " 9   Service_year_of_vehicle      8388 non-null   object\n",
      " 10  Defect_of_vehicle            7889 non-null   object\n",
      " 11  Area_accident_occured        12077 non-null  object\n",
      " 12  Lanes_or_Medians             11931 non-null  object\n",
      " 13  Road_allignment              12174 non-null  object\n",
      " 14  Types_of_Junction            11429 non-null  object\n",
      " 15  Road_surface_type            12144 non-null  object\n",
      " 16  Road_surface_conditions      12316 non-null  object\n",
      " 17  Light_conditions             12316 non-null  object\n",
      " 18  Weather_conditions           12316 non-null  object\n",
      " 19  Type_of_collision            12161 non-null  object\n",
      " 20  Number_of_vehicles_involved  12316 non-null  int64 \n",
      " 21  Number_of_casualties         12316 non-null  int64 \n",
      " 22  Vehicle_movement             12008 non-null  object\n",
      " 23  Casualty_class               12316 non-null  object\n",
      " 24  Sex_of_casualty              12316 non-null  object\n",
      " 25  Age_band_of_casualty         12316 non-null  object\n",
      " 26  Casualty_severity            12316 non-null  object\n",
      " 27  Work_of_casuality            9118 non-null   object\n",
      " 28  Fitness_of_casuality         9681 non-null   object\n",
      " 29  Pedestrian_movement          12316 non-null  object\n",
      " 30  Cause_of_accident            12316 non-null  object\n",
      " 31  Accident_severity            12316 non-null  object\n",
      "dtypes: int64(2), object(30)\n",
      "memory usage: 3.0+ MB\n"
     ]
    }
   ],
   "source": [
    "df.info()"
   ]
  },
  {
   "cell_type": "markdown",
   "id": "c21a036b",
   "metadata": {},
   "source": [
    "#### Foram escolhidas variáveis sobre o condutor da viatura envolvida nos acidentes, além do local e das causas atribuídas ao mesmos. Como variável target, para aplicação de técnicas de ML, foi escolhida a variável relativa a severidade do acidente."
   ]
  },
  {
   "cell_type": "code",
   "execution_count": 4,
   "id": "31a2583b",
   "metadata": {},
   "outputs": [],
   "source": [
    "df_new = df[[\"Time\", \"Day_of_week\", \"Age_band_of_driver\", \"Driving_experience\", \"Type_of_vehicle\", \"Area_accident_occured\",\n",
    "            \"Lanes_or_Medians\", \"Types_of_Junction\", \"Cause_of_accident\", \"Accident_severity\"]]"
   ]
  },
  {
   "cell_type": "code",
   "execution_count": 5,
   "id": "7cd2968e",
   "metadata": {},
   "outputs": [
    {
     "name": "stdout",
     "output_type": "stream",
     "text": [
      "<class 'pandas.core.frame.DataFrame'>\n",
      "RangeIndex: 12316 entries, 0 to 12315\n",
      "Data columns (total 10 columns):\n",
      " #   Column                 Non-Null Count  Dtype \n",
      "---  ------                 --------------  ----- \n",
      " 0   Time                   12316 non-null  object\n",
      " 1   Day_of_week            12316 non-null  object\n",
      " 2   Age_band_of_driver     12316 non-null  object\n",
      " 3   Driving_experience     11487 non-null  object\n",
      " 4   Type_of_vehicle        11366 non-null  object\n",
      " 5   Area_accident_occured  12077 non-null  object\n",
      " 6   Lanes_or_Medians       11931 non-null  object\n",
      " 7   Types_of_Junction      11429 non-null  object\n",
      " 8   Cause_of_accident      12316 non-null  object\n",
      " 9   Accident_severity      12316 non-null  object\n",
      "dtypes: object(10)\n",
      "memory usage: 962.3+ KB\n"
     ]
    }
   ],
   "source": [
    "df_new.info()"
   ]
  },
  {
   "cell_type": "code",
   "execution_count": 6,
   "id": "f9fcaa95",
   "metadata": {},
   "outputs": [
    {
     "data": {
      "text/plain": [
       "Time                     1074\n",
       "Day_of_week                 7\n",
       "Age_band_of_driver          5\n",
       "Driving_experience          7\n",
       "Type_of_vehicle            17\n",
       "Area_accident_occured      14\n",
       "Lanes_or_Medians            7\n",
       "Types_of_Junction           8\n",
       "Cause_of_accident          20\n",
       "Accident_severity           3\n",
       "dtype: int64"
      ]
     },
     "execution_count": 6,
     "metadata": {},
     "output_type": "execute_result"
    }
   ],
   "source": [
    "df_new.nunique()"
   ]
  },
  {
   "cell_type": "markdown",
   "id": "7facf6d9",
   "metadata": {},
   "source": [
    "### Tratamento de variáveis categóricas"
   ]
  },
  {
   "cell_type": "markdown",
   "id": "60d137b9",
   "metadata": {},
   "source": [
    "#### Variável Type_of_vehicle"
   ]
  },
  {
   "cell_type": "code",
   "execution_count": 7,
   "id": "7f414800",
   "metadata": {},
   "outputs": [
    {
     "data": {
      "text/plain": [
       "array(['Automobile', 'Public (> 45 seats)', 'Lorry (41?100Q)', nan,\n",
       "       'Public (13?45 seats)', 'Lorry (11?40Q)', 'Long lorry',\n",
       "       'Public (12 seats)', 'Taxi', 'Pick up upto 10Q', 'Stationwagen',\n",
       "       'Ridden horse', 'Other', 'Bajaj', 'Turbo', 'Motorcycle',\n",
       "       'Special vehicle', 'Bicycle'], dtype=object)"
      ]
     },
     "execution_count": 7,
     "metadata": {},
     "output_type": "execute_result"
    }
   ],
   "source": [
    "df_new['Type_of_vehicle'].unique()"
   ]
  },
  {
   "cell_type": "code",
   "execution_count": 8,
   "id": "ff5daa4a",
   "metadata": {},
   "outputs": [
    {
     "name": "stderr",
     "output_type": "stream",
     "text": [
      "<ipython-input-8-a0c2adc23c59>:28: SettingWithCopyWarning: \n",
      "A value is trying to be set on a copy of a slice from a DataFrame.\n",
      "Try using .loc[row_indexer,col_indexer] = value instead\n",
      "\n",
      "See the caveats in the documentation: https://pandas.pydata.org/pandas-docs/stable/user_guide/indexing.html#returning-a-view-versus-a-copy\n",
      "  df_new['Type_of_vehicle'] = df_new['Type_of_vehicle'].apply(categorize_vehicle_type)\n"
     ]
    }
   ],
   "source": [
    "# Tratamento da variável tipo de veículo de forma a dimunuir a quantidade de classes\n",
    "category_mapping = {\n",
    "    'Automobile': 'Car',\n",
    "    'Public (> 45 seats)': 'Public Transport',\n",
    "    'Public (13?45 seats)': 'Public Transport',\n",
    "    'Public (12 seats)': 'Public Transport',\n",
    "    'Lorry (41?100Q)': 'Truck',\n",
    "    'Lorry (11?40Q)': 'Truck',\n",
    "    'Long lorry': 'Truck',\n",
    "    'Taxi': 'Public Transport',\n",
    "    'Pick up upto 10Q': 'Truck',\n",
    "    'Stationwagen': 'Car',\n",
    "    'Ridden horse': 'Others',\n",
    "    'Other': 'Others',\n",
    "    'Bajaj': 'Motorcycle',\n",
    "    'Turbo': 'Car',\n",
    "    'Motorcycle': 'Motorcycle',\n",
    "    'Special vehicle': 'Others',\n",
    "    'Bicycle': 'Bicycle'\n",
    "}\n",
    "\n",
    "# Definindo uma função para categorizar\n",
    "def categorize_vehicle_type(vehicle_type):\n",
    "    \"\"\"Categorização dos tipos de veículos com base no dicionário de mapeamento.\"\"\"\n",
    "    return category_mapping.get(vehicle_type, 'Unknown')  # Retorna 'Unknown' se não encontrar o valor\n",
    "\n",
    "# Aplicando a função ao DataFrame\n",
    "df_new['Type_of_vehicle'] = df_new['Type_of_vehicle'].apply(categorize_vehicle_type)\n"
   ]
  },
  {
   "cell_type": "code",
   "execution_count": 9,
   "id": "599e36be",
   "metadata": {
    "scrolled": true
   },
   "outputs": [
    {
     "data": {
      "text/plain": [
       "Time                     1074\n",
       "Day_of_week                 7\n",
       "Age_band_of_driver          5\n",
       "Driving_experience          7\n",
       "Type_of_vehicle             7\n",
       "Area_accident_occured      14\n",
       "Lanes_or_Medians            7\n",
       "Types_of_Junction           8\n",
       "Cause_of_accident          20\n",
       "Accident_severity           3\n",
       "dtype: int64"
      ]
     },
     "execution_count": 9,
     "metadata": {},
     "output_type": "execute_result"
    }
   ],
   "source": [
    "df_new.nunique()"
   ]
  },
  {
   "cell_type": "markdown",
   "id": "5e4e22a8",
   "metadata": {},
   "source": [
    "#### Variável Area_accident_occured"
   ]
  },
  {
   "cell_type": "code",
   "execution_count": 10,
   "id": "026c1c04",
   "metadata": {},
   "outputs": [
    {
     "data": {
      "text/plain": [
       "array(['Residential areas', 'Office areas', '  Recreational areas',\n",
       "       ' Industrial areas', nan, 'Other', ' Church areas',\n",
       "       '  Market areas', 'Unknown', 'Rural village areas',\n",
       "       ' Outside rural areas', ' Hospital areas', 'School areas',\n",
       "       'Rural village areasOffice areas', 'Recreational areas'],\n",
       "      dtype=object)"
      ]
     },
     "execution_count": 10,
     "metadata": {},
     "output_type": "execute_result"
    }
   ],
   "source": [
    "df_new['Area_accident_occured'].unique()"
   ]
  },
  {
   "cell_type": "code",
   "execution_count": 11,
   "id": "843f55a3",
   "metadata": {},
   "outputs": [
    {
     "name": "stderr",
     "output_type": "stream",
     "text": [
      "<ipython-input-11-ced8dbcb1f66>:25: SettingWithCopyWarning: \n",
      "A value is trying to be set on a copy of a slice from a DataFrame.\n",
      "Try using .loc[row_indexer,col_indexer] = value instead\n",
      "\n",
      "See the caveats in the documentation: https://pandas.pydata.org/pandas-docs/stable/user_guide/indexing.html#returning-a-view-versus-a-copy\n",
      "  df_new['Area_accident_occured'] = df_new['Area_accident_occured'].apply(categorize_area_type)\n"
     ]
    }
   ],
   "source": [
    "# Tratamento da variável tipo de área de forma a dimunuir a quantidade de classes\n",
    "category_mapping2 = {\n",
    "    'Residential areas': 'Private',\n",
    "    'Office areas': 'Business',\n",
    "    '  Recreational areas': 'Public',\n",
    "    ' Industrial areas': 'Business',\n",
    "    'Other': 'Other',\n",
    "    ' Church areas': 'Public',\n",
    "    '  Market areas': 'Public',\n",
    "    'Unknown': 'Other',\n",
    "    'Rural village areas': 'Rural',\n",
    "    ' Outside rural areas': 'Rural',\n",
    "    ' Hospital areas': 'Public',\n",
    "    'School areas': 'Public',\n",
    "    'Rural village areasOffice areas': 'Rural',\n",
    "    'Recreational areas': 'Public'\n",
    "}\n",
    "\n",
    "# Definindo uma função para categorizar\n",
    "def categorize_area_type(area_type):\n",
    "    \"\"\"Categorização dos tipos de veículos com base no dicionário de mapeamento.\"\"\"\n",
    "    return category_mapping2.get(area_type, 'Other')  # Retorna 'Unknown' se não encontrar o valor\n",
    "\n",
    "# Aplicando a função ao DataFrame\n",
    "df_new['Area_accident_occured'] = df_new['Area_accident_occured'].apply(categorize_area_type)"
   ]
  },
  {
   "cell_type": "code",
   "execution_count": 12,
   "id": "61938483",
   "metadata": {},
   "outputs": [
    {
     "data": {
      "text/plain": [
       "array(['Private', 'Business', 'Public', 'Other', 'Rural'], dtype=object)"
      ]
     },
     "execution_count": 12,
     "metadata": {},
     "output_type": "execute_result"
    }
   ],
   "source": [
    "df_new['Area_accident_occured'].unique()"
   ]
  },
  {
   "cell_type": "markdown",
   "id": "67dc58b3",
   "metadata": {},
   "source": [
    "#### Variável Cause_of_accident"
   ]
  },
  {
   "cell_type": "code",
   "execution_count": 13,
   "id": "35d805e2",
   "metadata": {},
   "outputs": [
    {
     "data": {
      "text/plain": [
       "array(['Moving Backward', 'Overtaking', 'Changing lane to the left',\n",
       "       'Changing lane to the right', 'Overloading', 'Other',\n",
       "       'No priority to vehicle', 'No priority to pedestrian',\n",
       "       'No distancing', 'Getting off the vehicle improperly',\n",
       "       'Improper parking', 'Overspeed', 'Driving carelessly',\n",
       "       'Driving at high speed', 'Driving to the left', 'Unknown',\n",
       "       'Overturning', 'Turnover', 'Driving under the influence of drugs',\n",
       "       'Drunk driving'], dtype=object)"
      ]
     },
     "execution_count": 13,
     "metadata": {},
     "output_type": "execute_result"
    }
   ],
   "source": [
    "df_new['Cause_of_accident'].unique()"
   ]
  },
  {
   "cell_type": "code",
   "execution_count": 14,
   "id": "649ccd4e",
   "metadata": {},
   "outputs": [
    {
     "name": "stderr",
     "output_type": "stream",
     "text": [
      "<ipython-input-14-f2abc2a9f475>:31: SettingWithCopyWarning: \n",
      "A value is trying to be set on a copy of a slice from a DataFrame.\n",
      "Try using .loc[row_indexer,col_indexer] = value instead\n",
      "\n",
      "See the caveats in the documentation: https://pandas.pydata.org/pandas-docs/stable/user_guide/indexing.html#returning-a-view-versus-a-copy\n",
      "  df_new['Cause_of_accident'] = df_new['Cause_of_accident'].apply(categorize_cause_type)\n"
     ]
    }
   ],
   "source": [
    "# Tratamento da variável tipo de causa de forma a dimunuir a quantidade de classes\n",
    "category_mapping3 = {\n",
    "    'Overspeed': 'Risky driving',\n",
    "    'Driving at high speed': 'Risky driving',\n",
    "    'Driving to the left': 'Risky driving',\n",
    "    'Driving under the influence of drugs': 'Risky driving',\n",
    "    'Driving under the influence of drugs': 'Risky driving',\n",
    "    'Drunk driving': 'Risky driving',\n",
    "    'Driving carelessly': 'Risky driving',\n",
    "    'Moving Backward': 'Directional changes',\n",
    "    'Changing lane to the left': 'Directional changes',\n",
    "    'Changing lane to the right': 'Directional changes',\n",
    "    'Turnover': 'Directional changes',\n",
    "    'Overtaking': 'Directional changes',\n",
    "    'No priority to vehicle': 'Priority violation',\n",
    "    'No priority to pedestrian': 'Priority violation',\n",
    "    'No distancing': 'Reckless driving',\n",
    "    'Getting off the vehicle improperly': 'Reckless driving',\n",
    "    'Improper parking': 'Reckless driving',\n",
    "    'Overloading' : 'Risky driving',\n",
    "    'Unknown' : 'Other',\n",
    "    'Overturning' : 'Reckless driving'\n",
    "}\n",
    "\n",
    "# Definindo uma função para categorizar\n",
    "def categorize_cause_type(cause_type):\n",
    "    \"\"\"Categorização dos tipos de veículos com base no dicionário de mapeamento.\"\"\"\n",
    "    return category_mapping3.get(cause_type, 'Other')  # Retorna 'Unknown' se não encontrar o valor\n",
    "\n",
    "# Aplicando a função ao DataFrame\n",
    "df_new['Cause_of_accident'] = df_new['Cause_of_accident'].apply(categorize_cause_type)"
   ]
  },
  {
   "cell_type": "code",
   "execution_count": 15,
   "id": "c8c5f6d3",
   "metadata": {},
   "outputs": [
    {
     "data": {
      "text/plain": [
       "array(['Directional changes', 'Risky driving', 'Other',\n",
       "       'Priority violation', 'Reckless driving'], dtype=object)"
      ]
     },
     "execution_count": 15,
     "metadata": {},
     "output_type": "execute_result"
    }
   ],
   "source": [
    "df_new['Cause_of_accident'].unique()"
   ]
  },
  {
   "cell_type": "markdown",
   "id": "5507d794",
   "metadata": {},
   "source": [
    "### Tratamento da variável Time"
   ]
  },
  {
   "cell_type": "code",
   "execution_count": 16,
   "id": "be65bc6e",
   "metadata": {},
   "outputs": [
    {
     "name": "stderr",
     "output_type": "stream",
     "text": [
      "<ipython-input-16-92c933f8f2fc>:2: SettingWithCopyWarning: \n",
      "A value is trying to be set on a copy of a slice from a DataFrame.\n",
      "Try using .loc[row_indexer,col_indexer] = value instead\n",
      "\n",
      "See the caveats in the documentation: https://pandas.pydata.org/pandas-docs/stable/user_guide/indexing.html#returning-a-view-versus-a-copy\n",
      "  df_new['Time'] = pd.to_datetime(df_new['Time'], format='%H:%M:%S', errors='coerce')\n",
      "<ipython-input-16-92c933f8f2fc>:19: SettingWithCopyWarning: \n",
      "A value is trying to be set on a copy of a slice from a DataFrame.\n",
      "Try using .loc[row_indexer,col_indexer] = value instead\n",
      "\n",
      "See the caveats in the documentation: https://pandas.pydata.org/pandas-docs/stable/user_guide/indexing.html#returning-a-view-versus-a-copy\n",
      "  df_new['Time'] = df_new['Time'].apply(categorize_time)\n"
     ]
    }
   ],
   "source": [
    "#Conversão da variável time de tipo object para o formato de hora:minuto:segundo\n",
    "df_new['Time'] = pd.to_datetime(df_new['Time'], format='%H:%M:%S', errors='coerce')\n",
    "\n",
    "\n",
    "# Define the function to categorize times\n",
    "def categorize_time(time):\n",
    "    if time.hour >= 6 and time.hour < 11:\n",
    "        return 'Morning'\n",
    "    elif time.hour >= 11 and time.hour < 14:\n",
    "        return 'Afternoon'\n",
    "    elif time.hour >= 14 and time.hour < 19:\n",
    "        return 'Evening'\n",
    "    elif time.hour >= 19 and time.hour < 23:\n",
    "        return 'Night'\n",
    "    else:\n",
    "        return 'Dawn'\n",
    "\n",
    "# Apply the function to create a new column 'Part_of_day'\n",
    "df_new['Time'] = df_new['Time'].apply(categorize_time)"
   ]
  },
  {
   "cell_type": "code",
   "execution_count": 17,
   "id": "f6e45c65",
   "metadata": {},
   "outputs": [
    {
     "data": {
      "text/plain": [
       "array(['Evening', 'Dawn', 'Night', 'Morning', 'Afternoon'], dtype=object)"
      ]
     },
     "execution_count": 17,
     "metadata": {},
     "output_type": "execute_result"
    }
   ],
   "source": [
    "df_new['Time'].unique()\n"
   ]
  },
  {
   "cell_type": "markdown",
   "id": "3ec7a375",
   "metadata": {},
   "source": [
    "### Tratamento de valores omissos"
   ]
  },
  {
   "cell_type": "markdown",
   "id": "826b0b75",
   "metadata": {},
   "source": [
    "#### Escolheu-se imputar os valores omissos pela classe modal"
   ]
  },
  {
   "cell_type": "code",
   "execution_count": 18,
   "id": "0b690b94",
   "metadata": {},
   "outputs": [
    {
     "data": {
      "text/plain": [
       "Time                     0.000000\n",
       "Day_of_week              0.000000\n",
       "Age_band_of_driver       0.000000\n",
       "Driving_experience       0.067311\n",
       "Type_of_vehicle          0.000000\n",
       "Area_accident_occured    0.000000\n",
       "Lanes_or_Medians         0.031260\n",
       "Types_of_Junction        0.072020\n",
       "Cause_of_accident        0.000000\n",
       "Accident_severity        0.000000\n",
       "dtype: float64"
      ]
     },
     "execution_count": 18,
     "metadata": {},
     "output_type": "execute_result"
    }
   ],
   "source": [
    "#Proporção dos valores omissos nas colunas do novo dataframe\n",
    "df_new.isnull().sum()/len(df_new)"
   ]
  },
  {
   "cell_type": "code",
   "execution_count": 19,
   "id": "4e58be7d",
   "metadata": {},
   "outputs": [],
   "source": [
    "df_clean = df_new.apply(lambda x: x.fillna(x.value_counts().index[0]))"
   ]
  },
  {
   "cell_type": "code",
   "execution_count": 20,
   "id": "50264921",
   "metadata": {},
   "outputs": [
    {
     "name": "stdout",
     "output_type": "stream",
     "text": [
      "<class 'pandas.core.frame.DataFrame'>\n",
      "RangeIndex: 12316 entries, 0 to 12315\n",
      "Data columns (total 10 columns):\n",
      " #   Column                 Non-Null Count  Dtype \n",
      "---  ------                 --------------  ----- \n",
      " 0   Time                   12316 non-null  object\n",
      " 1   Day_of_week            12316 non-null  object\n",
      " 2   Age_band_of_driver     12316 non-null  object\n",
      " 3   Driving_experience     12316 non-null  object\n",
      " 4   Type_of_vehicle        12316 non-null  object\n",
      " 5   Area_accident_occured  12316 non-null  object\n",
      " 6   Lanes_or_Medians       12316 non-null  object\n",
      " 7   Types_of_Junction      12316 non-null  object\n",
      " 8   Cause_of_accident      12316 non-null  object\n",
      " 9   Accident_severity      12316 non-null  object\n",
      "dtypes: object(10)\n",
      "memory usage: 962.3+ KB\n"
     ]
    }
   ],
   "source": [
    "df_clean.info()"
   ]
  },
  {
   "cell_type": "code",
   "execution_count": 21,
   "id": "7af20582",
   "metadata": {},
   "outputs": [],
   "source": [
    "df_clean.to_csv(\"df_road.csv\", index=False)"
   ]
  },
  {
   "cell_type": "code",
   "execution_count": 22,
   "id": "39cb53d5",
   "metadata": {},
   "outputs": [
    {
     "data": {
      "text/plain": [
       "['Time',\n",
       " 'Day_of_week',\n",
       " 'Age_band_of_driver',\n",
       " 'Driving_experience',\n",
       " 'Type_of_vehicle',\n",
       " 'Area_accident_occured',\n",
       " 'Lanes_or_Medians',\n",
       " 'Types_of_Junction',\n",
       " 'Cause_of_accident',\n",
       " 'Accident_severity']"
      ]
     },
     "execution_count": 22,
     "metadata": {},
     "output_type": "execute_result"
    }
   ],
   "source": [
    "df_clean.columns.tolist()"
   ]
  },
  {
   "cell_type": "code",
   "execution_count": 23,
   "id": "892c2d24",
   "metadata": {},
   "outputs": [],
   "source": [
    "del(df)"
   ]
  },
  {
   "cell_type": "code",
   "execution_count": 24,
   "id": "334a0648",
   "metadata": {},
   "outputs": [],
   "source": [
    "del(df_new)"
   ]
  }
 ],
 "metadata": {
  "kernelspec": {
   "display_name": "Python 3",
   "language": "python",
   "name": "python3"
  },
  "language_info": {
   "codemirror_mode": {
    "name": "ipython",
    "version": 3
   },
   "file_extension": ".py",
   "mimetype": "text/x-python",
   "name": "python",
   "nbconvert_exporter": "python",
   "pygments_lexer": "ipython3",
   "version": "3.8.8"
  }
 },
 "nbformat": 4,
 "nbformat_minor": 5
}
